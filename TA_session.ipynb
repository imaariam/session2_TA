{
 "cells": [
  {
   "cell_type": "markdown",
   "id": "71f99173",
   "metadata": {},
   "source": [
    "# TA Session"
   ]
  },
  {
   "cell_type": "markdown",
   "id": "6a352c0b",
   "metadata": {},
   "source": [
    "1.Write a function sum_of_list that takes a list of integers as input\n",
    "and returns the sum of all the integers\n"
   ]
  },
  {
   "cell_type": "code",
   "execution_count": 6,
   "id": "ce117633",
   "metadata": {},
   "outputs": [
    {
     "name": "stdout",
     "output_type": "stream",
     "text": [
      "10\n"
     ]
    }
   ],
   "source": [
    "def sum_of_list(input_list):\n",
    "    return sum(input_list)\n",
    "\n",
    "input_list = [1,2,3,4]\n",
    "output = sum_of_list(input_list)\n",
    "print(output)"
   ]
  },
  {
   "cell_type": "markdown",
   "id": "dc809774",
   "metadata": {},
   "source": [
    "2.Create a function check_key that accepts a dictionary and a key as input. The function should\n",
    "return True if the key exists in the dictionary and False otherwise"
   ]
  },
  {
   "cell_type": "code",
   "execution_count": 9,
   "id": "fa58e2eb",
   "metadata": {},
   "outputs": [
    {
     "name": "stdout",
     "output_type": "stream",
     "text": [
      "True\n"
     ]
    }
   ],
   "source": [
    "def check_key(dict1,key):\n",
    "    return key in dict1\n",
    "\n",
    "dict1={'name':'mariam', 'age':24 , 'phone':9205208112}\n",
    "\n",
    "key = 'age'\n",
    "result = check_key(dict1,key)\n",
    "print(result)\n"
   ]
  },
  {
   "cell_type": "markdown",
   "id": "0ed6d9a9",
   "metadata": {},
   "source": [
    "3. write a function reverse_string that takes a string as input and returns the string reversed"
   ]
  },
  {
   "cell_type": "code",
   "execution_count": 11,
   "id": "f3e90c21",
   "metadata": {},
   "outputs": [
    {
     "data": {
      "text/plain": [
       "' olleh '"
      ]
     },
     "execution_count": 11,
     "metadata": {},
     "output_type": "execute_result"
    }
   ],
   "source": [
    "def reverse_string(input_string):\n",
    "    return input_string[::-1]\n",
    "input_string = ' hello '\n",
    "output_string = reverse_string(input_string)\n",
    "output_string"
   ]
  }
 ],
 "metadata": {
  "kernelspec": {
   "display_name": "Python 3 (ipykernel)",
   "language": "python",
   "name": "python3"
  },
  "language_info": {
   "codemirror_mode": {
    "name": "ipython",
    "version": 3
   },
   "file_extension": ".py",
   "mimetype": "text/x-python",
   "name": "python",
   "nbconvert_exporter": "python",
   "pygments_lexer": "ipython3",
   "version": "3.11.5"
  }
 },
 "nbformat": 4,
 "nbformat_minor": 5
}
